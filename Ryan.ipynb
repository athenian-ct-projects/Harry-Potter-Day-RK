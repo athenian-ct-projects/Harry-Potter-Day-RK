{
  "nbformat": 4,
  "nbformat_minor": 0,
  "metadata": {
    "colab": {
      "name": "Ryan",
      "provenance": [],
      "collapsed_sections": [],
      "include_colab_link": true
    },
    "kernelspec": {
      "name": "python3",
      "display_name": "Python 3"
    }
  },
  "cells": [
    {
      "cell_type": "markdown",
      "metadata": {
        "id": "view-in-github",
        "colab_type": "text"
      },
      "source": [
        "<a href=\"https://colab.research.google.com/github/athenian-ct-projects/Harry-Potter-Day-RK/blob/master/Ryan.ipynb\" target=\"_parent\"><img src=\"https://colab.research.google.com/assets/colab-badge.svg\" alt=\"Open In Colab\"/></a>"
      ]
    },
    {
      "cell_type": "code",
      "metadata": {
        "id": "hMIuUwwQZLh9",
        "colab_type": "code",
        "outputId": "07d6a7ee-f2f9-4842-c24e-5e507815f2b5",
        "colab": {
          "base_uri": "https://localhost:8080/",
          "height": 85
        }
      },
      "source": [
        "def fansCheer(team):\n",
        "  print(\"Go \" + team + \"!\")\n",
        "\n",
        "fansCheer(\"Gryffindor\")\n",
        "fansCheer(\"Slytherin\")\n",
        "fansCheer(\"Hufflepuff\")\n",
        "fansCheer(\"Ravenclaw\")"
      ],
      "execution_count": 0,
      "outputs": [
        {
          "output_type": "stream",
          "text": [
            "Go Gryffindor!\n",
            "Go Slytherin!\n",
            "Go Hufflepuff!\n",
            "Go Ravenclaw!\n"
          ],
          "name": "stdout"
        }
      ]
    },
    {
      "cell_type": "code",
      "metadata": {
        "id": "viPXTa7ehf5b",
        "colab_type": "code",
        "outputId": "1cfe4c52-81c2-4940-909b-b8632ee535b9",
        "colab": {
          "base_uri": "https://localhost:8080/",
          "height": 170
        }
      },
      "source": [
        "#Making quiditch!!!!!\n",
        "#Dedicated for Nathan and his amazing teaching skills\n",
        "\n",
        "\n",
        "# importing random numbers:\n",
        "#import random\n",
        "#print(random.randint(1,5))\n",
        "\n",
        "#Deciding Teams:\n",
        "\n",
        "#Team one picking\n",
        "\n",
        "print(\"Here are the following rules to play quiditch!:\")\n",
        "team_name1 = input(\"To start, team one first pick your team, type in either Gryffindor, Slytherin, Hufflepuff, or Ravenclaw \") \n",
        "while team_name1 != \"Gryffindor\" and team_name1 != \"Slytherin\" and team_name1 !=\"Hufflepuff\" and team_name1!= \"Ravenclaw\":\n",
        "  team_name1 = input(\"You do not have a valid Harry Potter name for this quiditch cup try again!\")\n",
        "print(\"team one has decided to pick the glorious team \"+team_name1)\n",
        "\n",
        "#Team two picking\n",
        "\n",
        "print(\"now that team one has picked thier team, now team 2 will pick\") \n",
        "team_name2 =input(\"Pick any other wonderful team besides the one team one picked \") \n",
        "while team_name2!=\"Gryffindor\" and team_name2 != \"Slytherin\" and team_name2 !=\"Hufflepuff\" and team_name2!= \"Ravenclaw\" or team_name1 == team_name2:\n",
        "  team_name2 =input(\"You do not have a valid Harry Potter name for this quiditch cup try agian!\")\n",
        "\n",
        "print(\"team two has decided to pick the glorious team \" +team_name2) \n",
        "\n",
        "print(\"team one is \" +team_name1 +\" and team two is \" +team_name2)\n",
        "\n",
        "team_names = [team_name1, team_name2]"
      ],
      "execution_count": 0,
      "outputs": [
        {
          "output_type": "stream",
          "text": [
            "Here are the following rules to play quiditch!:\n",
            "To start, team one first pick your team, type in either Gryffindor, Slytherin, Hufflepuff, or Ravenclaw \n",
            "You do not have a valid Harry Potter name for this quiditch cup try again!\n",
            "You do not have a valid Harry Potter name for this quiditch cup try again!Ravenclaw\n",
            "team one has decided to pick the glorious team Ravenclaw\n",
            "now that team one has picked thier team, now team 2 will pick\n",
            "Pick any other wonderful team besides the one team one picked Hufflepuff\n",
            "team two has decided to pick the glorious team Hufflepuff\n",
            "team one is Ravenclaw and team two is Hufflepuff\n"
          ],
          "name": "stdout"
        }
      ]
    },
    {
      "cell_type": "code",
      "metadata": {
        "id": "21FWjk6ipB2X",
        "colab_type": "code",
        "outputId": "9b6c4fa6-5936-449b-9c6d-2ec3bec75701",
        "colab": {
          "base_uri": "https://localhost:8080/",
          "height": 68
        }
      },
      "source": [
        "#coin toss time!\n",
        "\n",
        "possesion=0\n",
        "\n",
        "print(\"Follow the instructions and we will see who wins the game \") \n",
        "coin_toss=input((team_name1) + \" it is time to start the game pick heads or tails \")\n",
        "while coin_toss!= \"heads\" and coin_toss!= \"tails\":\n",
        "  print(\"PICK HEADS OR TAILS!\")\n",
        "  coin_toss=input((team_name1) + \" it is time to start the game pick heads or tails \")\n",
        "if coin_toss==\"heads\":\n",
        "  coin_toss=1 \n",
        "elif coin_toss==\"tails\":\n",
        "  coin_toss=2\n",
        "import random\n",
        "real_number=(random.randint(1,2))\n",
        "\n",
        "#Saying who has won the toss \n",
        "\n",
        "if coin_toss==real_number:\n",
        "  print((team_name1) +\" has won the toss \")\n",
        "  possesion=1\n",
        "elif coin_toss!=real_number: \n",
        "  print((team_name2)+ \" has won the toss \")\n",
        "  possesion=2\n"
      ],
      "execution_count": 0,
      "outputs": [
        {
          "output_type": "stream",
          "text": [
            "Follow the instructions and we will see who wins the game \n",
            "Ravenclaw it is time to start the game pick heads or tails heads\n",
            "Hufflepuff has won the toss \n"
          ],
          "name": "stdout"
        }
      ]
    },
    {
      "cell_type": "code",
      "metadata": {
        "id": "twGMok06WOvQ",
        "colab_type": "code",
        "colab": {}
      },
      "source": [
        "#Staring the match\n",
        "\n",
        "#Keeping track of score and possesion\n",
        "\n",
        "score_team1=0\n",
        "score_team2=0\n",
        "\n",
        "possesion=0\n",
        "\n",
        "\n",
        "def one_turn():\n",
        "  global possesion\n",
        "  global score_team1\n",
        "  global score_team2\n",
        "\n",
        "  print(\"Because team \" + team_names[possesion] + \" won the toss, they have started with the quaffle and bludgers. They will make the first move\")\n",
        "  choose_to_pass_or_shoot = input(\"You are at midfield, do you want to pass to a teamate ahead or do you want to shoot?\")\n",
        "  if choose_to_pass_or_shoot == \"pass\":\n",
        "    \n",
        "    #if choosing to pass \n",
        "    #clearing space\n",
        "    #if pass is complete\n",
        "    import random\n",
        "    probability_of_completion=(random.randint(1,2))\n",
        "    if probability_of_completion==2:\n",
        "      print(\"pass complete\")\n",
        "      two_choice=input(\"now that the pass is complete, you are 25 yards away from the pole thing goal do you want to pass agian or shoot?\")\n",
        "      if two_choice==\"pass\":\n",
        "        chance_two=(random.randint(1,3))\n",
        "        if chance_two==3:\n",
        "          print(\"pass is complete\")\n",
        "        elif chance_two!=3:\n",
        "          print(\"pass is incomplete\")\n",
        "          \n",
        "      elif two_choice==\"shoot\":\n",
        "        two_score=(random.randint(1,3))\n",
        "        if two_score==2:\n",
        "          print(\"GOALLLL!!!!\")\n",
        "          if possesion==0: \n",
        "            score_team1+=50\n",
        "            print(str(score_team1)+\" is how many points you have\")\n",
        "          else:\n",
        "            score_team2+=50\n",
        "            print(str(score_team2) + \" is how many points you have\")\n",
        "        elif two_score!=2:\n",
        "          print(\"missed goal\")\n",
        "    else: \n",
        "      print(\"pass is incomplete\")\n",
        "  \n",
        "\n",
        "  \n",
        "\n",
        "  elif choose_to_pass_or_shoot==\"shoot\":\n",
        "\n",
        "    import random\n",
        "    probability_of_score=(random.randint(1,3))\n",
        "    if probability_of_score==3:\n",
        "      print(\"YOU SCORDED!!!\")\n",
        "      print(\"GOALLLL!!!!\")\n",
        "      if possesion==0: \n",
        "          score_team1+=50\n",
        "          print(str(score_team1)+ \" is how many points you have\")\n",
        "      else:\n",
        "          score_team2+=50\n",
        "          print(str(score_team2)+\" is how many points you have\")\n",
        "    else:\n",
        "       print(\"It is a missed\")\n",
        "\n",
        "\n",
        "  if possesion==0:\n",
        "    possesion=1\n",
        "  else:\n",
        "    possesion=0\n",
        "\n",
        "\n",
        "# elif coin_toss!=real_number:\n",
        "#   print(\"Because team two has won the toss, they have started with the quaffle and bludgers. They will make the first move\")\n",
        "#   #input(\"You are at midfield, do you want to pass to a teamate ahead or do you want to shoot?\")\n",
        "#   choose_to_pass_or_shoot =input(\"You are at midfield, do you want to pass to a teamate ahead or do you want to shoot?\")\n",
        "#   if choose_to_pass_or_shoot==\"pass\":\n",
        "  \n",
        "#     import random\n",
        "#     probability_of_completion = (random.randint(1,2))\n",
        "#     if probability_of_completion==2:\n",
        "#       print(\"pass complete\")\n",
        "#     elif choose_to_pass_or_shoot!=probability_of_completion:\n",
        "#       print(\"pass is incomplete\")\n",
        "\n",
        "# #Picking if they decide to shoot not pass\n",
        "# #*clearing space*\n",
        "# #*clearing space*\n",
        "\n",
        "#   elif choose_to_pass_or_shoot==\"shoot\":\n",
        "\n",
        "#     import random\n",
        "#     probability_of_score=(random.randint(1,5))\n",
        "#     if probability_of_score==3:\n",
        "#       print(\"YOU SCORDED!!!\")\n",
        "#     elif choose_to_pass_or_shoot!=probability_of_completion:\n",
        "#       print(\"It is a missed\")\n",
        "\n"
      ],
      "execution_count": 0,
      "outputs": []
    },
    {
      "cell_type": "code",
      "metadata": {
        "id": "BZerP-0PjCJA",
        "colab_type": "code",
        "outputId": "d4d1c8b7-160e-4b68-878c-5ad5646c1b41",
        "colab": {
          "base_uri": "https://localhost:8080/",
          "height": 510
        }
      },
      "source": [
        "for x in range (10):\n",
        "  one_turn()\n"
      ],
      "execution_count": 0,
      "outputs": [
        {
          "output_type": "stream",
          "text": [
            "Because team Gryffindor won the toss, they have started with the quaffle and bludgers. They will make the first move\n",
            "You are at midfield, do you want to pass to a teamate ahead or do you want to shoot?pas\n",
            "Because team Hufflepuff won the toss, they have started with the quaffle and bludgers. They will make the first move\n",
            "You are at midfield, do you want to pass to a teamate ahead or do you want to shoot?shoot\n",
            "It is a missed\n",
            "Because team Gryffindor won the toss, they have started with the quaffle and bludgers. They will make the first move\n",
            "You are at midfield, do you want to pass to a teamate ahead or do you want to shoot?pass\n",
            "pass is incomplete\n",
            "Because team Hufflepuff won the toss, they have started with the quaffle and bludgers. They will make the first move\n",
            "You are at midfield, do you want to pass to a teamate ahead or do you want to shoot?pass\n",
            "pass is incomplete\n",
            "Because team Gryffindor won the toss, they have started with the quaffle and bludgers. They will make the first move\n",
            "You are at midfield, do you want to pass to a teamate ahead or do you want to shoot?shoot\n",
            "It is a missed\n",
            "Because team Hufflepuff won the toss, they have started with the quaffle and bludgers. They will make the first move\n",
            "You are at midfield, do you want to pass to a teamate ahead or do you want to shoot?hoot\n",
            "Because team Gryffindor won the toss, they have started with the quaffle and bludgers. They will make the first move\n",
            "You are at midfield, do you want to pass to a teamate ahead or do you want to shoot?hoot\n",
            "Because team Hufflepuff won the toss, they have started with the quaffle and bludgers. They will make the first move\n",
            "You are at midfield, do you want to pass to a teamate ahead or do you want to shoot?shoot\n",
            "It is a missed\n",
            "Because team Gryffindor won the toss, they have started with the quaffle and bludgers. They will make the first move\n",
            "You are at midfield, do you want to pass to a teamate ahead or do you want to shoot?shoot\n",
            "It is a missed\n",
            "Because team Hufflepuff won the toss, they have started with the quaffle and bludgers. They will make the first move\n",
            "You are at midfield, do you want to pass to a teamate ahead or do you want to shoot?shoot\n",
            "YOU SCORDED!!!\n",
            "GOALLLL!!!!\n",
            "50 is how many points you have\n"
          ],
          "name": "stdout"
        }
      ]
    },
    {
      "cell_type": "code",
      "metadata": {
        "id": "wGTO_i4smKi5",
        "colab_type": "code",
        "outputId": "2af90ffa-09ea-44fd-900a-2e63c4974273",
        "colab": {
          "base_uri": "https://localhost:8080/",
          "height": 68
        }
      },
      "source": [
        "print(\"The golden snitch has appeared!!!!! You and your opponent are now on the chase!!!\") \n",
        "print(\"Team one is going to go first when you hit the play button down below, hit the enter key as many times as you can\")\n",
        "print(\"After team one goes, team two will do the same\")\n",
        "\n",
        "\n",
        "\n"
      ],
      "execution_count": 0,
      "outputs": [
        {
          "output_type": "stream",
          "text": [
            "The golden snitch has appeared!!!!! You and your opponent are now on the chase!!!\n",
            "Team one is going to go first when you hit the play button down below, hit the enter key as many times as you can\n",
            "After team one goes, team two will do the same\n"
          ],
          "name": "stdout"
        }
      ]
    },
    {
      "cell_type": "code",
      "metadata": {
        "id": "XaRrAlPlk0bV",
        "colab_type": "code",
        "outputId": "306e452e-1f02-49e8-d37b-0d304fe0d60e",
        "colab": {
          "base_uri": "https://localhost:8080/",
          "height": 208
        }
      },
      "source": [
        "#x = input()\n",
        "print(\"Hit the play enter as many times as possible\") \n",
        "import time \n",
        "#for 10 seconds count how many times they click enter\n",
        "a = time.time() + 5\n",
        "b = time.time()\n",
        "x = 0\n",
        "solved = 0\n",
        "while solved != 1:\n",
        "  if b < a:\n",
        "    input(\"\")\n",
        "    x+=1\n",
        "    b = time.time()\n",
        "  else:\n",
        "    solved = 1\n",
        "  #print(a)\n",
        "  #print(b)\n",
        "print(x)"
      ],
      "execution_count": 0,
      "outputs": [
        {
          "output_type": "stream",
          "text": [
            "Hit the play enter as many times as possible\n",
            "\n",
            "\n",
            "\n",
            "\n",
            "\n",
            "\n",
            "\n",
            "\n",
            "\n",
            "9\n"
          ],
          "name": "stdout"
        }
      ]
    },
    {
      "cell_type": "code",
      "metadata": {
        "id": "wyJE_m0nlfx6",
        "colab_type": "code",
        "outputId": "cb4a9a8c-5028-4e32-cc10-a75f44ecd8d6",
        "colab": {
          "base_uri": "https://localhost:8080/",
          "height": 208
        }
      },
      "source": [
        "#y = input()\n",
        "print(\"Hit the play enter as many times as possible\") \n",
        "import time \n",
        "#for 10 seconds count how many times they click enter\n",
        "a = time.time() + 5\n",
        "b = time.time()\n",
        "y = 0\n",
        "solved = 0\n",
        "while solved != 1:\n",
        "  if b < a:\n",
        "    input(\"\")\n",
        "    y+=1\n",
        "    b = time.time()\n",
        "  else:\n",
        "    solved = 1\n",
        "  #print(a)\n",
        "  #print(b)\n",
        "print(y)"
      ],
      "execution_count": 0,
      "outputs": [
        {
          "output_type": "stream",
          "text": [
            "Hit the play enter as many times as possible\n",
            "\n",
            "\n",
            "\n",
            "\n",
            "\n",
            "\n",
            "\n",
            "\n",
            "\n",
            "9\n"
          ],
          "name": "stdout"
        }
      ]
    },
    {
      "cell_type": "code",
      "metadata": {
        "id": "uhh6KNholzM7",
        "colab_type": "code",
        "outputId": "1a6cbe02-9b0f-4324-8d0f-bb548f2cdd75",
        "colab": {
          "base_uri": "https://localhost:8080/",
          "height": 234
        }
      },
      "source": [
        "# global score_team1\n",
        "# global score_team2\n",
        "\n",
        "if x>y:\n",
        "  score_team1+=400\n",
        "  print(str(score_team1))\n",
        "elif x<y: \n",
        "  score_team2+=400\n",
        "  print(str(score_team2))\n",
        "else: \n",
        "  x==y\n",
        "  score_team1+=200\n",
        "  score_team2+=200\n",
        "  print(str(score_team1))\n",
        "  print(str(score_team2))"
      ],
      "execution_count": 0,
      "outputs": [
        {
          "output_type": "error",
          "ename": "NameError",
          "evalue": "ignored",
          "traceback": [
            "\u001b[0;31m---------------------------------------------------------------------------\u001b[0m",
            "\u001b[0;31mNameError\u001b[0m                                 Traceback (most recent call last)",
            "\u001b[0;32m<ipython-input-1-1b5e344066f3>\u001b[0m in \u001b[0;36m<module>\u001b[0;34m()\u001b[0m\n\u001b[1;32m      1\u001b[0m \u001b[0;34m\u001b[0m\u001b[0m\n\u001b[0;32m----> 2\u001b[0;31m \u001b[0;32mif\u001b[0m \u001b[0mx\u001b[0m\u001b[0;34m>\u001b[0m\u001b[0my\u001b[0m\u001b[0;34m:\u001b[0m\u001b[0;34m\u001b[0m\u001b[0;34m\u001b[0m\u001b[0m\n\u001b[0m\u001b[1;32m      3\u001b[0m   \u001b[0mscore_team1\u001b[0m\u001b[0;34m+=\u001b[0m\u001b[0;36m400\u001b[0m\u001b[0;34m\u001b[0m\u001b[0;34m\u001b[0m\u001b[0m\n\u001b[1;32m      4\u001b[0m   \u001b[0mprint\u001b[0m\u001b[0;34m(\u001b[0m\u001b[0mstr\u001b[0m\u001b[0;34m(\u001b[0m\u001b[0mscore_team1\u001b[0m\u001b[0;34m)\u001b[0m\u001b[0;34m)\u001b[0m\u001b[0;34m\u001b[0m\u001b[0;34m\u001b[0m\u001b[0m\n\u001b[1;32m      5\u001b[0m \u001b[0;32melif\u001b[0m \u001b[0mx\u001b[0m\u001b[0;34m<\u001b[0m\u001b[0my\u001b[0m\u001b[0;34m:\u001b[0m\u001b[0;34m\u001b[0m\u001b[0;34m\u001b[0m\u001b[0m\n",
            "\u001b[0;31mNameError\u001b[0m: name 'x' is not defined"
          ]
        }
      ]
    },
    {
      "cell_type": "code",
      "metadata": {
        "id": "0Tyuv0EWm8UA",
        "colab_type": "code",
        "outputId": "fb0fb05c-896c-45a5-efb6-89c25f2e86ed",
        "colab": {
          "base_uri": "https://localhost:8080/",
          "height": 34
        }
      },
      "source": [
        "if int(score_team1)> int(score_team2):\n",
        "  print(team_names[0]+  \" IS VICTORIOUS\")\n",
        "elif int(score_team1)< int(score_team2): \n",
        "  print(team_names[1]+ \" IS VICTORIOUS\")\n",
        "else: \n",
        "  print(\"It is a tie replay the whole code again\")"
      ],
      "execution_count": 0,
      "outputs": [
        {
          "output_type": "stream",
          "text": [
            "Hufflepuff IS VICTORIOUS\n"
          ],
          "name": "stdout"
        }
      ]
    }
  ]
}